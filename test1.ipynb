{
  "nbformat": 4,
  "nbformat_minor": 0,
  "metadata": {
    "colab": {
      "provenance": [],
      "authorship_tag": "ABX9TyOOAEjdI4sHanMVxzO1++8M",
      "include_colab_link": true
    },
    "kernelspec": {
      "name": "python3",
      "display_name": "Python 3"
    },
    "language_info": {
      "name": "python"
    }
  },
  "cells": [
    {
      "cell_type": "markdown",
      "metadata": {
        "id": "view-in-github",
        "colab_type": "text"
      },
      "source": [
        "<a href=\"https://colab.research.google.com/github/enDinetah/summer_projects/blob/main/test1.ipynb\" target=\"_parent\"><img src=\"https://colab.research.google.com/assets/colab-badge.svg\" alt=\"Open In Colab\"/></a>"
      ]
    },
    {
      "cell_type": "code",
      "execution_count": null,
      "metadata": {
        "colab": {
          "base_uri": "https://localhost:8080/"
        },
        "id": "NYPHuBmLuX7P",
        "outputId": "a53c03c0-4837-4516-eac8-04c2b1a0ae04"
      },
      "outputs": [
        {
          "output_type": "stream",
          "name": "stdout",
          "text": [
            "Hello World\n"
          ]
        }
      ],
      "source": [
        "class Testing:\n",
        "\n",
        "  def __init__(self, items):\n",
        "      self._items = items\n",
        "\n",
        "  @property\n",
        "  def items(self):\n",
        "    return f\"Getting these {self._items} now.\"\n",
        "\n",
        "  def get_items(self):\n",
        "    return self._items\n",
        "\n",
        "\n",
        "\n",
        "prnttst = Testing(\"Hello World\")\n",
        "\n",
        "print(prnttst.get_items())"
      ]
    },
    {
      "cell_type": "markdown",
      "source": [
        "My first test for 10 OOP projects"
      ],
      "metadata": {
        "id": "Qkiz_oazwJ5D"
      }
    }
  ]
}