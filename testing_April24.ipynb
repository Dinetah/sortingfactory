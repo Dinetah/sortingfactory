{
  "nbformat": 4,
  "nbformat_minor": 0,
  "metadata": {
    "colab": {
      "provenance": [],
      "authorship_tag": "ABX9TyPfCVgCOT2cI3sedyZ6ZOdX",
      "include_colab_link": true
    },
    "kernelspec": {
      "name": "python3",
      "display_name": "Python 3"
    },
    "language_info": {
      "name": "python"
    }
  },
  "cells": [
    {
      "cell_type": "markdown",
      "metadata": {
        "id": "view-in-github",
        "colab_type": "text"
      },
      "source": [
        "<a href=\"https://colab.research.google.com/github/enDinetah/summer_projects/blob/main/testing_April24.ipynb\" target=\"_parent\"><img src=\"https://colab.research.google.com/assets/colab-badge.svg\" alt=\"Open In Colab\"/></a>"
      ]
    },
    {
      "cell_type": "code",
      "execution_count": null,
      "metadata": {
        "id": "NYPHuBmLuX7P"
      },
      "outputs": [],
      "source": [
        "class Testing:\n",
        "\n",
        "  def __init_(self, items):\n",
        "      self._items = items\n",
        "\n",
        "  @property\n",
        "  def items(self):\n",
        "    return f\"Getting these {items} now.\""
      ]
    }
  ]
}